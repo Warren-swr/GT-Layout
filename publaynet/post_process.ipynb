{
 "cells": [
  {
   "cell_type": "code",
   "execution_count": 1,
   "metadata": {},
   "outputs": [
    {
     "name": "stdout",
     "output_type": "stream",
     "text": [
      "Using device: cuda:1\n",
      "Loading ckpt pretrained_encoder.pth\n",
      "DONE\n",
      "\n",
      "Loading ckpt pretrained_decoder.pth\n",
      "DONE\n",
      "\n"
     ]
    }
   ],
   "source": [
    "import os\n",
    "import sys\n",
    "import shutil\n",
    "import numpy as np\n",
    "import torch\n",
    "import utils\n",
    "import vis_utils_layout as vis_utils\n",
    "from data_layout import LayoutDataset, Tree\n",
    "import model_layout as model\n",
    "import tqdm\n",
    "\n",
    "sys.setrecursionlimit(5000) \n",
    "\n",
    "num_gen = 300\n",
    "num_recon = 200\n",
    "exp = 'publay-1W'\n",
    "category = 'publaynet'\n",
    "checkpoint = '212_'\n",
    "device = 'cuda:0'\n",
    "\n",
    "path = '/home/weiran/Projects/RvNN-Layout/GT-Layout/' + category + '/logs/' + exp\n",
    "data_path = '/home/weiran/Projects/RvNN-Layout/data/' + category + '-ours/' + exp\n",
    "\n",
    "# load train config\n",
    "conf = torch.load(path + '/conf.pth')\n",
    "\n",
    "# load object category information\n",
    "Tree.load_category_info(conf.category)\n",
    "\n",
    "# set up device\n",
    "print(f'Using device: {conf.device}')\n",
    "\n",
    "recon_dir = path + '/recon-test/'\n",
    "gen_dir = path + '/generation/'\n",
    "\n",
    "# if os.path.exists(recon_dir):\n",
    "#     shutil.rmtree(recon_dir)\n",
    "# os.mkdir(recon_dir)\n",
    "\n",
    "# if os.path.exists(gen_dir):\n",
    "#     shutil.rmtree(gen_dir)\n",
    "# os.mkdir(gen_dir)\n",
    "\n",
    "# create models\n",
    "# we disable probabilistic because we do not need to jitter the decoded z during inference\n",
    "encoder = model.RecursiveEncoder(conf, variational=True, probabilistic=False)\n",
    "decoder = model.RecursiveDecoder(conf)\n",
    "\n",
    "# load the pretrained models\n",
    "print('Loading ckpt pretrained_encoder.pth')\n",
    "data_to_restore = torch.load(path + '/ckpts/' + checkpoint + 'net_encoder.pth')\n",
    "encoder.load_state_dict(data_to_restore, strict=True)\n",
    "print('DONE\\n')\n",
    "print('Loading ckpt pretrained_decoder.pth')\n",
    "data_to_restore = torch.load(path + '/ckpts/' + checkpoint + 'net_decoder.pth')\n",
    "decoder.load_state_dict(data_to_restore, strict=True)\n",
    "print('DONE\\n')\n",
    "\n",
    "# send to device\n",
    "encoder.to(device)\n",
    "decoder.to(device)\n",
    "\n",
    "# set models to evaluation mode\n",
    "encoder.eval()\n",
    "decoder.eval()\n",
    "\n",
    "# read test.txt\n",
    "with open(data_path + '/test.txt', 'r') as fin:\n",
    "    data_list = [l.rstrip() for l in fin.readlines()]"
   ]
  },
  {
   "cell_type": "code",
   "execution_count": 2,
   "metadata": {},
   "outputs": [],
   "source": [
    "code = torch.randn(1, conf.feature_size).to(device)"
   ]
  },
  {
   "cell_type": "code",
   "execution_count": 3,
   "metadata": {},
   "outputs": [
    {
     "ename": "RuntimeError",
     "evalue": "Can't call numpy() on Tensor that requires grad. Use tensor.detach().numpy() instead.",
     "output_type": "error",
     "traceback": [
      "\u001b[0;31m---------------------------------------------------------------------------\u001b[0m",
      "\u001b[0;31mRuntimeError\u001b[0m                              Traceback (most recent call last)",
      "Cell \u001b[0;32mIn[3], line 7\u001b[0m\n\u001b[1;32m      3\u001b[0m obj_arr \u001b[39m=\u001b[39m decoder\u001b[39m.\u001b[39mdecode_structure(z\u001b[39m=\u001b[39mcode, max_depth\u001b[39m=\u001b[39mconf\u001b[39m.\u001b[39mmax_tree_depth)\n\u001b[1;32m      5\u001b[0m obj_arr\u001b[39m.\u001b[39mget_arrbox()\n\u001b[0;32m----> 7\u001b[0m \u001b[39mprint\u001b[39m(\u001b[39mstr\u001b[39;49m(obj_arr))\n\u001b[1;32m      9\u001b[0m \u001b[39m# output the assembled box-shape\u001b[39;00m\n\u001b[1;32m     10\u001b[0m vis_utils\u001b[39m.\u001b[39mdraw_partnet_objects([obj_arr],\\\n\u001b[1;32m     11\u001b[0m         object_names\u001b[39m=\u001b[39m[\u001b[39m'\u001b[39m\u001b[39mGENERATION\u001b[39m\u001b[39m'\u001b[39m], \\\n\u001b[1;32m     12\u001b[0m         figsize\u001b[39m=\u001b[39m(\u001b[39m5\u001b[39m, \u001b[39m5\u001b[39m), leafs_only\u001b[39m=\u001b[39m\u001b[39mTrue\u001b[39;00m, sem_colors_filename\u001b[39m=\u001b[39m\u001b[39m'\u001b[39m\u001b[39m./part_colors_magazine.txt\u001b[39m\u001b[39m'\u001b[39m)\n",
      "File \u001b[0;32m~/Projects/RvNN-Layout/GT-Layout/publaynet/data_layout.py:393\u001b[0m, in \u001b[0;36mTree.__str__\u001b[0;34m(self)\u001b[0m\n\u001b[1;32m    392\u001b[0m \u001b[39mdef\u001b[39;00m \u001b[39m__str__\u001b[39m(\u001b[39mself\u001b[39m):\n\u001b[0;32m--> 393\u001b[0m     \u001b[39mreturn\u001b[39;00m \u001b[39mstr\u001b[39;49m(\u001b[39mself\u001b[39;49m\u001b[39m.\u001b[39;49mroot)\n",
      "File \u001b[0;32m~/Projects/RvNN-Layout/GT-Layout/publaynet/data_layout.py:336\u001b[0m, in \u001b[0;36mTree.Node.__str__\u001b[0;34m(self)\u001b[0m\n\u001b[1;32m    335\u001b[0m \u001b[39mdef\u001b[39;00m \u001b[39m__str__\u001b[39m(\u001b[39mself\u001b[39m):\n\u001b[0;32m--> 336\u001b[0m     \u001b[39mreturn\u001b[39;00m \u001b[39mself\u001b[39;49m\u001b[39m.\u001b[39;49m_to_str(\u001b[39m0\u001b[39;49m, \u001b[39m0\u001b[39;49m)\n",
      "File \u001b[0;32m~/Projects/RvNN-Layout/GT-Layout/publaynet/data_layout.py:309\u001b[0m, in \u001b[0;36mTree.Node._to_str\u001b[0;34m(self, level, pid, detailed)\u001b[0m\n\u001b[1;32m    308\u001b[0m \u001b[39mdef\u001b[39;00m \u001b[39m_to_str\u001b[39m(\u001b[39mself\u001b[39m, level, pid, detailed\u001b[39m=\u001b[39m\u001b[39mTrue\u001b[39;00m):\n\u001b[0;32m--> 309\u001b[0m     box \u001b[39m=\u001b[39m \u001b[39mself\u001b[39;49m\u001b[39m.\u001b[39;49mabsbox\u001b[39m.\u001b[39;49mcpu()\u001b[39m.\u001b[39;49mnumpy()\u001b[39m.\u001b[39mreshape(\u001b[39m-\u001b[39m\u001b[39m1\u001b[39m)\u001b[39m.\u001b[39mtolist()\n\u001b[1;32m    310\u001b[0m     out_str \u001b[39m=\u001b[39m \u001b[39m'\u001b[39m\u001b[39m'\u001b[39m\n\u001b[1;32m    311\u001b[0m     \u001b[39mif\u001b[39;00m \u001b[39mself\u001b[39m\u001b[39m.\u001b[39mis_leaf:\n\u001b[1;32m    312\u001b[0m         \u001b[39m# out_str = str(self.get_semantic_id()) + ' ' + str(' '.join(str(i) for i in box)) + '\\n' \u001b[39;00m\n",
      "\u001b[0;31mRuntimeError\u001b[0m: Can't call numpy() on Tensor that requires grad. Use tensor.detach().numpy() instead."
     ]
    }
   ],
   "source": [
    "# infer through the model to get the generated hierarchy\n",
    "# set maximal tree depth to conf.max_tree_depth\n",
    "obj_arr = decoder.decode_structure(z=code, max_depth=conf.max_tree_depth)\n",
    "\n",
    "obj_arr.get_arrbox()\n",
    "\n",
    "print(str(obj_arr))\n",
    "\n",
    "# output the assembled box-shape\n",
    "vis_utils.draw_partnet_objects([obj_arr],\\\n",
    "        object_names=['GENERATION'], \\\n",
    "        figsize=(5, 5), leafs_only=True, sem_colors_filename='./part_colors_magazine.txt')"
   ]
  },
  {
   "cell_type": "code",
   "execution_count": null,
   "metadata": {},
   "outputs": [],
   "source": [
    "def arr_v(node):\n",
    "    total = 0.0\n",
    "    if node.children is not None:\n",
    "        for child in node.children:\n",
    "            total += child.box[0,1] + child.box[0,3]\n",
    "        for child in node.children:\n",
    "            child.box[0,1] /= total\n",
    "            child.box[0,3] /= total\n",
    "        for index, child in enumerate(node.children):\n",
    "            if index != 0 and child.box[0,1] < 0.02:\n",
    "                child.box[0,3] -= 0.02 - child.box[0,0]\n",
    "                child.box[0,1] = 0.02\n",
    "\n",
    "def arr_h(node):\n",
    "    total = 0.0\n",
    "    if node.children is not None:\n",
    "        for child in node.children:\n",
    "            total += child.box[0,0] + child.box[0,2]\n",
    "        for child in node.children:\n",
    "            child.box[0,0] /= total\n",
    "            child.box[0,2] /= total\n",
    "        for index, child in enumerate(node.children):\n",
    "            if index != 0 and child.box[0,0] < 0.02:\n",
    "                child.box[0,2] -= 0.02 - child.box[0,0]\n",
    "                child.box[0,0] = 0.02\n",
    "            \n",
    "\n",
    "def arr_s(node):\n",
    "    if node.children is not None:\n",
    "        for child in node.children:\n",
    "            total_h = 0.0\n",
    "            total_v = 0.0\n",
    "            total_h += child.box[0,0] + child.box[0,2]\n",
    "            total_v += child.box[0,1] + child.box[0,3]\n",
    "            \n",
    "            child.box[0,0] /= total_h\n",
    "            child.box[0,2] /= total_h\n",
    "            child.box[0,1] /= total_v\n",
    "            child.box[0,3] /= total_v\n",
    "\n",
    "def arr_layout(node):\n",
    "    if node.children is not None:\n",
    "        if node.label == 'vertical_branch':\n",
    "            arr_v(node)\n",
    "        elif node.label == 'horizontal_branch':\n",
    "            arr_h(node)\n",
    "        elif node.label == 'stack_branch':\n",
    "            arr_s(node)\n",
    "        for index, child in enumerate(node.children):\n",
    "            # if child.box[0,2] + child.box[0,0] > 0.9:\n",
    "            #     child.box[0,2] = 1.0\n",
    "            #     child.box[0,0] = 0.0\n",
    "            # if child.box[0,3] + child.box[0,1] > 0.9:\n",
    "            #     child.box[0,3] = 1.0\n",
    "            #     child.box[0,1] = 0.0\n",
    "                \n",
    "            if child.box[0,2]  > 0.95:\n",
    "                child.box[0,2] = 1.0\n",
    "                child.box[0,0] = 0.0\n",
    "            if child.box[0,3] > 0.95:\n",
    "                child.box[0,3] = 1.0\n",
    "                child.box[0,1] = 0.0\n",
    "            arr_layout(child)\n",
    "\n",
    "# test_obj = obj_arr\n",
    "# arr_layout(test_obj.root)"
   ]
  },
  {
   "cell_type": "code",
   "execution_count": null,
   "metadata": {},
   "outputs": [
    {
     "data": {
      "image/png": "[encoded data removed]",
      "text/plain": [
       "<Figure size 500x500 with 1 Axes>"
      ]
     },
     "metadata": {},
     "output_type": "display_data"
    }
   ],
   "source": [
    "test_obj.get_arrbox()\n",
    "\n",
    "# output the assembled box-shape\n",
    "vis_utils.draw_partnet_objects([test_obj],\\\n",
    "        object_names=['GENERATION'], \\\n",
    "        figsize=(5, 5), leafs_only=True, sem_colors_filename='./part_colors_magazine.txt')"
   ]
  },
  {
   "cell_type": "code",
   "execution_count": 45,
   "metadata": {},
   "outputs": [],
   "source": [
    "code = torch.randn(1, conf.feature_size).to(device)"
   ]
  },
  {
   "cell_type": "code",
   "execution_count": 46,
   "metadata": {},
   "outputs": [
    {
     "data": {
      "image/png": "[encoded data removed]",
      "text/plain": [
       "<Figure size 500x500 with 1 Axes>"
      ]
     },
     "metadata": {},
     "output_type": "display_data"
    }
   ],
   "source": [
    "# code = torch.randn(1, conf.feature_size).to(device)\n",
    "\n",
    "# infer through the model to get the generated hierarchy\n",
    "# set maximal tree depth to conf.max_tree_depth\n",
    "obj_arr = decoder.decode_structure(z=code, max_depth=conf.max_tree_depth)\n",
    "\n",
    "obj_arr.get_arrbox()\n",
    "\n",
    "# print(str(obj_arr))\n",
    "\n",
    "# output the assembled box-shape\n",
    "vis_utils.draw_partnet_objects([obj_arr],\\\n",
    "        object_names=['GENERATION'], \\\n",
    "        figsize=(5, 5), leafs_only=True, sem_colors_filename='./part_colors_magazine.txt')"
   ]
  },
  {
   "cell_type": "code",
   "execution_count": 47,
   "metadata": {},
   "outputs": [
    {
     "data": {
      "image/png": "[encoded data removed]",
      "text/plain": [
       "<Figure size 500x500 with 1 Axes>"
      ]
     },
     "metadata": {},
     "output_type": "display_data"
    }
   ],
   "source": [
    "test_obj = obj_arr\n",
    "arr_layout(test_obj.root)\n",
    "arr_layout(test_obj.root)\n",
    "test_obj.get_arrbox()\n",
    "\n",
    "# output the assembled box-shape\n",
    "vis_utils.draw_partnet_objects([test_obj],\\\n",
    "        object_names=['GENERATION'], \\\n",
    "        figsize=(5, 5), leafs_only=True, sem_colors_filename='./part_colors_magazine.txt')"
   ]
  }
 ],
 "metadata": {
  "kernelspec": {
   "display_name": "torch-2",
   "language": "python",
   "name": "python3"
  },
  "language_info": {
   "codemirror_mode": {
    "name": "ipython",
    "version": 3
   },
   "file_extension": ".py",
   "mimetype": "text/x-python",
   "name": "python",
   "nbconvert_exporter": "python",
   "pygments_lexer": "ipython3",
   "version": "3.9.16"
  },
  "orig_nbformat": 4
 },
 "nbformat": 4,
 "nbformat_minor": 2
}
