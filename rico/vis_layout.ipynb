{
 "cells": [
  {
   "cell_type": "code",
   "execution_count": 3,
   "metadata": {},
   "outputs": [],
   "source": [
    "# %matplotlib notebook\n",
    "\n",
    "import os\n",
    "import matplotlib.pyplot\n",
    "from data_layout import LayoutDataset\n",
    "from vis_utils_layout import draw_partnet_objects\n",
    "\n",
    "matplotlib.pyplot.ion()\n",
    "\n",
    "# ground-truth data directory\n",
    "root_dir = '/home/weiran/Project/Layout-TVCG23/data/publay_test_0226_output/'\n"
   ]
  },
  {
   "cell_type": "code",
   "execution_count": 2,
   "metadata": {},
   "outputs": [
    {
     "name": "stdout",
     "output_type": "stream",
     "text": [
      "PartNet Hierarchy: (the number in bracket corresponds to PartNet part_id)\n",
      "0 vertical_branch    {1} 1 Box(tensor([0.0100, 0.0100, 0.6800, 0.7500]))\n",
      "  ├0 text [LEAF] {2} 5 Box(tensor([0.1600, 0.0100, 0.3800, 0.1800]))\n",
      "  ├1 image [LEAF] {3} 4 Box(tensor([0.0100, 0.2200, 0.6800, 0.4400]))\n",
      "  ├2 image [LEAF] {4} 4 Box(tensor([0.2800, 0.6900, 0.1400, 0.0700]))\n",
      "\n"
     ]
    }
   ],
   "source": [
    "# load one data\n",
    "obj = LayoutDataset.load_object(os.path.join(root_dir, '1_488_layout.json'))\n",
    "obj.load_category_info('magazine')\n",
    "\n",
    "# print the hierarchical structure\n",
    "print('PartNet Hierarchy: (the number in bracket corresponds to PartNet part_id)')\n",
    "print(obj)"
   ]
  },
  {
   "cell_type": "code",
   "execution_count": 3,
   "metadata": {},
   "outputs": [
    {
     "data": {
      "text/plain": [
       "tensor([[0.2206, 0.0000, 0.5588, 0.2400]])"
      ]
     },
     "execution_count": 3,
     "metadata": {},
     "output_type": "execute_result"
    }
   ],
   "source": [
    "obj.root.children[0].get_box()"
   ]
  },
  {
   "cell_type": "code",
   "execution_count": 4,
   "metadata": {},
   "outputs": [
    {
     "data": {
      "image/png": "[encoded data removed]",
      "text/plain": [
       "<Figure size 288x360 with 1 Axes>"
      ]
     },
     "metadata": {
      "needs_background": "light"
     },
     "output_type": "display_data"
    }
   ],
   "source": [
    "# obj = LayoutDataset.load_object(os.path.join(root_dir, '110.json'))\n",
    "# obj = LayoutDataset.load_object(os.path.join(root_dir, '7.json'))\n",
    "ob = obj\n",
    "\n",
    "draw_partnet_objects(objects=[obj], object_names=['GT'],\n",
    "                     figsize=(4, 5), leafs_only=True,\n",
    "                     sem_colors_filename='./part_colors_magazine.txt')"
   ]
  },
  {
   "cell_type": "code",
   "execution_count": 6,
   "metadata": {},
   "outputs": [
    {
     "data": {
      "text/plain": [
       "tensor([[0.0000, 0.0000, 1.0000, 0.2138]])"
      ]
     },
     "execution_count": 6,
     "metadata": {},
     "output_type": "execute_result"
    }
   ],
   "source": [
    "ob.root.children[0].absbox"
   ]
  },
  {
   "cell_type": "code",
   "execution_count": 7,
   "metadata": {},
   "outputs": [
    {
     "data": {
      "text/plain": [
       "tensor([0.0000, 0.0000, 1.0000, 0.2138])"
      ]
     },
     "execution_count": 7,
     "metadata": {},
     "output_type": "execute_result"
    }
   ],
   "source": [
    "ob.root.children[0].box"
   ]
  },
  {
   "cell_type": "code",
   "execution_count": null,
   "metadata": {},
   "outputs": [],
   "source": [
    "# ground-truth data directory\n",
    "root_dir = './data/magazine_rand'\n",
    "\n",
    "# read all data\n",
    "obj_list = sorted([int(item.split('.')[0]) for item in os.listdir(root_dir) if item.endswith('.json')])\n",
    "# print(len(obj_list))\n",
    "\n",
    "# visualize all data\n",
    "for obj in obj_list:\n",
    "    obj = LayoutDataset.load_object(os.path.join(root_dir, str(obj)+'.json'))\n",
    "    draw_partnet_objects(objects=[obj], object_names=['Layout'],\n",
    "                        figsize=(5, 5), leafs_only=True,\n",
    "                        sem_colors_filename='./part_colors_magazine.txt')"
   ]
  },
  {
   "cell_type": "code",
   "execution_count": 4,
   "metadata": {},
   "outputs": [],
   "source": [
    "obj_list = [item.split('.')[0] for item in os.listdir(root_dir) if item.endswith('.json')]\n",
    "\n",
    "out_dir = '/home/weiran/Project/Layout-TVCG23/data/publay_test_0226_pic/'\n",
    "\n",
    "for obj in obj_list:\n",
    "    arrbox = LayoutDataset.load_object(os.path.join(root_dir, str(obj)+'.json'))\n",
    "    arrbox.get_arrbox()\n",
    "    draw_partnet_objects(objects=[arrbox], object_names=['Layout'], \n",
    "                        figsize=(5, 5), leafs_only=True,\n",
    "                        sem_colors_filename='./part_colors_magazine.txt',\n",
    "                        out_fn=os.path.join(out_dir, obj + '.png'))"
   ]
  }
 ],
 "metadata": {
  "kernelspec": {
   "display_name": "Python 3.6.13 ('torch')",
   "language": "python",
   "name": "python3"
  },
  "language_info": {
   "codemirror_mode": {
    "name": "ipython",
    "version": 3
   },
   "file_extension": ".py",
   "mimetype": "text/x-python",
   "name": "python",
   "nbconvert_exporter": "python",
   "pygments_lexer": "ipython3",
   "version": "3.9.15"
  },
  "orig_nbformat": 4,
  "vscode": {
   "interpreter": {
    "hash": "f903b2b60a8b91cd2748e4b89510df54c458a48099b7a4d252a18ecd2999490e"
   }
  }
 },
 "nbformat": 4,
 "nbformat_minor": 2
}
