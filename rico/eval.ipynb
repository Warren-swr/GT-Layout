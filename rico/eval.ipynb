{
 "cells": [
  {
   "cell_type": "code",
   "execution_count": null,
   "metadata": {},
   "outputs": [],
   "source": [
    "import os\n",
    "import sys\n",
    "import shutil\n",
    "import numpy as np\n",
    "import torch\n",
    "import utils\n",
    "import vis_utils_layout as vis_utils\n",
    "from data_layout import LayoutDataset, Tree\n",
    "import model_layout as model\n",
    "\n",
    "sys.setrecursionlimit(5000) \n",
    "\n",
    "num_gen = 300\n",
    "num_recon = 300\n",
    "exp = 'magazine_2K'\n",
    "checkpoint = ''\n",
    "\n",
    "path = '/home/weiran/Projects/RvNN-Layout/GT-Layout/magazine/logs/'\n",
    "\n"
   ]
  }
 ],
 "metadata": {
  "language_info": {
   "name": "python"
  },
  "orig_nbformat": 4
 },
 "nbformat": 4,
 "nbformat_minor": 2
}
