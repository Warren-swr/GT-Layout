{
 "cells": [
  {
   "cell_type": "code",
   "execution_count": 69,
   "metadata": {},
   "outputs": [],
   "source": [
    "# %matplotlib notebook\n",
    "\n",
    "import os\n",
    "import matplotlib.pyplot\n",
    "from data_layout import LayoutDataset\n",
    "# from vis_utils_layout import draw_partnet_objects\n",
    "import vis_utils_layout\n",
    "\n",
    "matplotlib.pyplot.ion()\n",
    "\n",
    "# ground-truth data directory\n",
    "root_dir = '/home/weiran/Code/Layout-CVPR22/Data/mag_contain_1110_final/'\n"
   ]
  },
  {
   "cell_type": "code",
   "execution_count": 70,
   "metadata": {},
   "outputs": [],
   "source": [
    "\"\"\"\n",
    "    some utility functions for jupyter notebook visualization\n",
    "\"\"\"\n",
    "\n",
    "import numpy as np\n",
    "import matplotlib\n",
    "# matplotlib.use(\"Agg\")\n",
    "from matplotlib import pyplot as plt\n",
    "import matplotlib.patches as patches\n",
    "from mpl_toolkits.mplot3d import Axes3D\n",
    "\n",
    "from rand_cmap import rand_cmap\n",
    "cmap = rand_cmap(300, type='bright', first_color_black=True, last_color_black=False, verbose=False)\n",
    "\n",
    "\n",
    "def load_semantic_colors(filename):\n",
    "    semantic_colors = {}\n",
    "    with open(filename, 'r') as fin:\n",
    "        for l in fin.readlines():\n",
    "            _, semantic, r, g, b = l.rstrip().split()\n",
    "            semantic_colors[semantic] = (int(r), int(g), int(b))\n",
    "    return semantic_colors\n",
    "\n",
    "def draw_box(ax, p, color, rot=None):\n",
    "    x = p[0]# + 0.01\n",
    "    y = p[1]# + 0.01\n",
    "    w = p[2]# - 0.02\n",
    "    h = p[3]# - 0.02\n",
    "\n",
    "    rect = patches.Rectangle((x, y), w, h, linewidth=2)\n",
    "    rect.set_color(color)\n",
    "    rect.set_linestyle('-')\n",
    "    rect.set_edgecolor(color)\n",
    "    rect.set_fill(False)\n",
    "    ax.add_patch(rect)\n",
    "\n",
    "\n",
    "def draw_partnet_objects(objects, part_boxes, part_ids, labelmap, object_names=None, figsize=None, out_fn=None, \\\n",
    "        leafs_only=False, use_id_as_color=False, sem_colors_filename=None):\n",
    "    # load sem colors if provided\n",
    "    if sem_colors_filename is not None:\n",
    "        sem_colors = load_semantic_colors(filename=sem_colors_filename)\n",
    "        for sem in sem_colors:\n",
    "            sem_colors[sem] = (float(sem_colors[sem][0]) / 255.0, float(sem_colors[sem][1]) / 255.0, float(sem_colors[sem][2]) / 255.0)\n",
    "    else:\n",
    "        sem_colors = None\n",
    "\n",
    "    if figsize is not None:\n",
    "        fig = plt.figure(0, figsize=figsize)\n",
    "    else:\n",
    "        fig = plt.figure(0)\n",
    "    \n",
    "    extent = 0.7\n",
    "    for i, obj in enumerate(objects):\n",
    "        # part_boxes, part_ids, part_sems = obj.get_part_hierarchy(leafs_only=leafs_only, show_mode=True)\n",
    "        # print(part_boxes)\n",
    "        # print(part_ids)\n",
    "        # print(part_sems)\n",
    "\n",
    "        ax = fig.add_subplot(1, len(objects), i+1)\n",
    "        ax.set_xlim(-0.1, 0.9)\n",
    "        ax.set_ylim(1.1, -0.1)\n",
    "        # ax.set_zlim(-extent, extent)\n",
    "        # ax.set_xlabel('x')\n",
    "        # ax.set_ylabel('y')\n",
    "        ax.set_axis_off()\n",
    "        # ax.set_zlabel('y')\n",
    "        # ax.set_aspect('auto')\n",
    "        # ax.set_proj_type('persp')\n",
    "        \n",
    "\n",
    "\n",
    "        if object_names is not None:\n",
    "            ax.set_title(object_names[i])\n",
    "\n",
    "        for jj in range(len(part_boxes)):\n",
    "            if sem_colors is not None:\n",
    "                color = sem_colors[labelmap[part_ids[jj]]]\n",
    "            else:\n",
    "                color_id = part_ids[jj]\n",
    "                if use_id_as_color:\n",
    "                    color_id = jj\n",
    "                color = cmap(color_id)\n",
    "\n",
    "            if part_boxes[jj] is not None:\n",
    "                draw_box(ax=ax, p=part_boxes[jj], color=color)\n",
    "\n",
    "    if out_fn is None:\n",
    "        # plt.tight_layout()\n",
    "        plt.show()\n",
    "    else:\n",
    "        fig.savefig(out_fn, bbox_inches='tight')\n",
    "        plt.close(fig)"
   ]
  },
  {
   "cell_type": "code",
   "execution_count": 71,
   "metadata": {},
   "outputs": [
    {
     "ename": "FileNotFoundError",
     "evalue": "[Errno 2] No such file or directory: '/home/weiran/Code/Layout-CVPR22/Data/interin/inter1639.json'",
     "output_type": "error",
     "traceback": [
      "\u001b[0;31m---------------------------------------------------------------------------\u001b[0m",
      "\u001b[0;31mFileNotFoundError\u001b[0m                         Traceback (most recent call last)",
      "\u001b[0;32m<ipython-input-71-0c108c605630>\u001b[0m in \u001b[0;36m<module>\u001b[0;34m\u001b[0m\n\u001b[1;32m      1\u001b[0m \u001b[0;31m# load one data\u001b[0m\u001b[0;34m\u001b[0m\u001b[0;34m\u001b[0m\u001b[0;34m\u001b[0m\u001b[0m\n\u001b[0;32m----> 2\u001b[0;31m \u001b[0mobj\u001b[0m \u001b[0;34m=\u001b[0m \u001b[0mLayoutDataset\u001b[0m\u001b[0;34m.\u001b[0m\u001b[0mload_object\u001b[0m\u001b[0;34m(\u001b[0m\u001b[0mos\u001b[0m\u001b[0;34m.\u001b[0m\u001b[0mpath\u001b[0m\u001b[0;34m.\u001b[0m\u001b[0mjoin\u001b[0m\u001b[0;34m(\u001b[0m\u001b[0;34m'/home/weiran/Code/Layout-CVPR22/Data/interin/inter1639.json'\u001b[0m\u001b[0;34m)\u001b[0m\u001b[0;34m)\u001b[0m\u001b[0;34m\u001b[0m\u001b[0;34m\u001b[0m\u001b[0m\n\u001b[0m\u001b[1;32m      3\u001b[0m \u001b[0mobj\u001b[0m\u001b[0;34m.\u001b[0m\u001b[0mload_category_info\u001b[0m\u001b[0;34m(\u001b[0m\u001b[0;34m'magazine'\u001b[0m\u001b[0;34m)\u001b[0m\u001b[0;34m\u001b[0m\u001b[0;34m\u001b[0m\u001b[0m\n\u001b[1;32m      4\u001b[0m \u001b[0;34m\u001b[0m\u001b[0m\n\u001b[1;32m      5\u001b[0m \u001b[0;31m# print the hierarchical structure\u001b[0m\u001b[0;34m\u001b[0m\u001b[0;34m\u001b[0m\u001b[0;34m\u001b[0m\u001b[0m\n",
      "\u001b[0;32m~/Code/Layout-CVPR22/1111_mag_contain_tanh/data_layout.py\u001b[0m in \u001b[0;36mload_object\u001b[0;34m(fn)\u001b[0m\n\u001b[1;32m    433\u001b[0m     \u001b[0;34m@\u001b[0m\u001b[0mstaticmethod\u001b[0m\u001b[0;34m\u001b[0m\u001b[0;34m\u001b[0m\u001b[0m\n\u001b[1;32m    434\u001b[0m     \u001b[0;32mdef\u001b[0m \u001b[0mload_object\u001b[0m\u001b[0;34m(\u001b[0m\u001b[0mfn\u001b[0m\u001b[0;34m)\u001b[0m\u001b[0;34m:\u001b[0m\u001b[0;34m\u001b[0m\u001b[0;34m\u001b[0m\u001b[0m\n\u001b[0;32m--> 435\u001b[0;31m         \u001b[0;32mwith\u001b[0m \u001b[0mopen\u001b[0m\u001b[0;34m(\u001b[0m\u001b[0mfn\u001b[0m\u001b[0;34m,\u001b[0m \u001b[0;34m'r'\u001b[0m\u001b[0;34m)\u001b[0m \u001b[0;32mas\u001b[0m \u001b[0mf\u001b[0m\u001b[0;34m:\u001b[0m\u001b[0;34m\u001b[0m\u001b[0;34m\u001b[0m\u001b[0m\n\u001b[0m\u001b[1;32m    436\u001b[0m             \u001b[0mroot_json\u001b[0m \u001b[0;34m=\u001b[0m \u001b[0mjson\u001b[0m\u001b[0;34m.\u001b[0m\u001b[0mload\u001b[0m\u001b[0;34m(\u001b[0m\u001b[0mf\u001b[0m\u001b[0;34m)\u001b[0m\u001b[0;34m\u001b[0m\u001b[0;34m\u001b[0m\u001b[0m\n\u001b[1;32m    437\u001b[0m \u001b[0;34m\u001b[0m\u001b[0m\n",
      "\u001b[0;31mFileNotFoundError\u001b[0m: [Errno 2] No such file or directory: '/home/weiran/Code/Layout-CVPR22/Data/interin/inter1639.json'"
     ]
    }
   ],
   "source": [
    "# load one data\n",
    "obj = LayoutDataset.load_object(os.path.join('/home/weiran/Code/Layout-CVPR22/Data/interin/inter1639.json'))\n",
    "obj.load_category_info('magazine')\n",
    "\n",
    "# print the hierarchical structure\n",
    "print('PartNet Hierarchy: (the number in bracket corresponds to PartNet part_id)')\n",
    "print(obj)"
   ]
  },
  {
   "cell_type": "code",
   "execution_count": null,
   "metadata": {},
   "outputs": [
    {
     "name": "stdout",
     "output_type": "stream",
     "text": [
      "[tensor([0.0100, 0.7100, 0.2111, 0.2000]), tensor([0.2444, 0.7100, 0.2111, 0.2000]), tensor([0.0111, 0.6044, 0.4444, 0.0822]), tensor([0.4778, 0.6044, 0.2144, 0.3056]), tensor([0.0100, 0.0100, 0.6811, 0.0544]), tensor([0.0100, 0.0889, 0.6811, 0.4933])]\n",
      "[9, 10, 7, 6, 4, 2]\n",
      "['text', 'text', 'title', 'text', 'text', 'image']\n"
     ]
    },
    {
     "data": {
      "image/png": "[encoded data removed]",
      "text/plain": [
       "<Figure size 288x360 with 1 Axes>"
      ]
     },
     "metadata": {
      "needs_background": "light"
     },
     "output_type": "display_data"
    },
    {
     "name": "stdout",
     "output_type": "stream",
     "text": [
      "[tensor([[-0.0011,  0.6989,  0.2111,  0.2000]]), tensor([[0.2333, 0.6989, 0.2111, 0.2000]]), tensor([[0.0000, 0.5933, 0.4444, 0.0822]]), tensor([[0.4667, 0.5933, 0.2144, 0.3056]]), tensor([[-0.0011, -0.0011,  0.6811,  0.0544]]), tensor([[-0.0011,  0.0778,  0.6811,  0.4933]])]\n",
      "[9, 10, 7, 6, 4, 2]\n",
      "['text', 'text', 'title', 'text', 'text', 'image']\n"
     ]
    },
    {
     "data": {
      "image/png": "[encoded data removed]",
      "text/plain": [
       "<Figure size 288x360 with 1 Axes>"
      ]
     },
     "metadata": {
      "needs_background": "light"
     },
     "output_type": "display_data"
    }
   ],
   "source": [
    "# obj = LayoutDataset.load_object(os.path.join(root_dir, '110.json'))\n",
    "# obj = LayoutDataset.load_object(os.path.join(root_dir, '7.json'))\n",
    "ob = obj\n",
    "\n",
    "draw_partnet_objects(objects=[obj], object_names=['GT'],\n",
    "                     figsize=(4, 5), leafs_only=True,\n",
    "                     sem_colors_filename='./part_colors_magazine.txt')\n",
    "ob.get_arrbox()\n",
    "draw_partnet_objects(objects=[ob], object_names=['GT'],\n",
    "                     figsize=(4, 5), leafs_only=True,\n",
    "                     sem_colors_filename='./part_colors_magazine.txt')"
   ]
  },
  {
   "cell_type": "code",
   "execution_count": null,
   "metadata": {},
   "outputs": [
    {
     "data": {
      "text/plain": [
       "tensor([[0.0000, 0.0000, 1.0000, 0.2138]])"
      ]
     },
     "execution_count": 6,
     "metadata": {},
     "output_type": "execute_result"
    }
   ],
   "source": [
    "ob.root.children[0].absbox"
   ]
  },
  {
   "cell_type": "code",
   "execution_count": null,
   "metadata": {},
   "outputs": [
    {
     "data": {
      "text/plain": [
       "tensor([0.0000, 0.0000, 1.0000, 0.2138])"
      ]
     },
     "execution_count": 7,
     "metadata": {},
     "output_type": "execute_result"
    }
   ],
   "source": [
    "ob.root.children[0].box"
   ]
  },
  {
   "cell_type": "code",
   "execution_count": null,
   "metadata": {},
   "outputs": [],
   "source": [
    "# ground-truth data directory\n",
    "root_dir = './data/magazine_rand'\n",
    "\n",
    "# read all data\n",
    "obj_list = sorted([int(item.split('.')[0]) for item in os.listdir(root_dir) if item.endswith('.json')])\n",
    "# print(len(obj_list))\n",
    "\n",
    "# visualize all data\n",
    "for obj in obj_list:\n",
    "    obj = LayoutDataset.load_object(os.path.join(root_dir, str(obj)+'.json'))\n",
    "    draw_partnet_objects(objects=[obj], object_names=['Layout'], \n",
    "                        figsize=(5, 5), leafs_only=True,\n",
    "                        sem_colors_filename='./part_colors_magazine.txt')"
   ]
  },
  {
   "cell_type": "code",
   "execution_count": null,
   "metadata": {},
   "outputs": [],
   "source": []
  },
  {
   "cell_type": "code",
   "execution_count": null,
   "metadata": {},
   "outputs": [],
   "source": []
  },
  {
   "cell_type": "code",
   "execution_count": null,
   "metadata": {},
   "outputs": [],
   "source": []
  },
  {
   "cell_type": "code",
   "execution_count": null,
   "metadata": {},
   "outputs": [],
   "source": []
  },
  {
   "cell_type": "code",
   "execution_count": null,
   "metadata": {},
   "outputs": [],
   "source": []
  },
  {
   "cell_type": "code",
   "execution_count": null,
   "metadata": {},
   "outputs": [
    {
     "data": {
      "text/plain": [
       "[[0.01171875, 0.01171875, 0.21875, 0.0859375],\n",
       " [0.01171875, 0.30078125, 0.19921875, 0.0546875],\n",
       " [0.01171875, 0.2109375, 0.75390625, 0.33203125],\n",
       " [0.4765625, 0.2890625, 0.23046875, 0.53125],\n",
       " [0.01171875, 0.4765625, 0.19921875, 0.1640625],\n",
       " [0.19921875, 0.609375, 0.19921875, 0.2421875],\n",
       " [0.4765625, 0.609375, 0.19921875, 0.34375],\n",
       " [0.265625, 0.609375, 0.19921875, 0.34375]]"
      ]
     },
     "execution_count": 22,
     "metadata": {},
     "output_type": "execute_result"
    }
   ],
   "source": [
    "lst"
   ]
  },
  {
   "cell_type": "code",
   "execution_count": 114,
   "metadata": {},
   "outputs": [],
   "source": [
    "import numpy as np\n",
    "\n",
    "def open_layout(path):\n",
    "    file = open(path)\n",
    "    f = file.read().split('\\n')\n",
    "\n",
    "    layout = []\n",
    "\n",
    "    for index in f:\n",
    "        layout.append(index.split(' '))\n",
    "\n",
    "    return layout\n",
    "\n",
    "def show_box(input_path):\n",
    "    f = open_layout(input_path)\n",
    "    label = [int(e[0]) for e in f[:-1]]\n",
    "    boxes = [(e[1:]) for e in f[:-1]]\n",
    "    lst = []\n",
    "\n",
    "    for box in boxes:\n",
    "        lst.append(list(map(float, box)))\n",
    "\n",
    "    l = np.array(lst)\n",
    "\n",
    "    labelmap_1 = [\n",
    "        'text',\n",
    "        'table',\n",
    "        'title',\n",
    "        'image',\n",
    "        'list'\n",
    "    ]\n",
    "\n",
    "    labelmap_3 = [\n",
    "        'title',\n",
    "        'text',\n",
    "        'image',\n",
    "        'list',\n",
    "        'table'\n",
    "    ]\n",
    "\n",
    "    labelmap_2 = [\n",
    "        \"Text\"             ,\n",
    "        \"Icon\"             ,\n",
    "        \"Toolbar\"          ,\n",
    "        \"Text-Button\"      ,\n",
    "        \"Web-View\"         ,\n",
    "        \"Image\"            ,\n",
    "        \"List-Item\"        ,\n",
    "        \"Input\"            ,\n",
    "        \"Advertisement\"    ,\n",
    "        \"Slider\"           ,\n",
    "        \"Multi-Tab\"        ,\n",
    "        \"Card\"             ,\n",
    "        \"Map-View\"         ,\n",
    "        \"Pager-Indicator\"  ,\n",
    "        \"Radio-Button\"     ,\n",
    "        \"On/Off-Switch\"    ,\n",
    "        \"Background-Image\" ,\n",
    "        \"Video\"            ,\n",
    "        \"Number-Stepper\"   ,\n",
    "        \"Checkbox\"         ,\n",
    "        \"Drawer\"           ,\n",
    "        \"Bottom-Navigation\",\n",
    "        \"Date-Picker\"      ,\n",
    "        \"Button-Bar\"       ,\n",
    "        \"Modal\"\n",
    "    ]\n",
    "\n",
    "    draw_partnet_objects(objects=['test'], object_names=['Layout'], part_boxes=l, part_ids=label, labelmap=labelmap_1, figsize=(5, 6), leafs_only=True, sem_colors_filename='./part_colors_magazine.txt')"
   ]
  },
  {
   "cell_type": "code",
   "execution_count": 120,
   "metadata": {},
   "outputs": [
    {
     "data": {
      "image/png": "[encoded data removed]",
      "text/plain": [
       "<Figure size 360x432 with 1 Axes>"
      ]
     },
     "metadata": {
      "needs_background": "light"
     },
     "output_type": "display_data"
    }
   ],
   "source": [
    "show_box('/home/weiran/Code/Layout-CVPR22/1111_mag_contain_tanh/recon_eval/70.txt')"
   ]
  }
 ],
 "metadata": {
  "kernelspec": {
   "display_name": "Python 3.6.13 ('torch')",
   "language": "python",
   "name": "python3"
  },
  "language_info": {
   "codemirror_mode": {
    "name": "ipython",
    "version": 3
   },
   "file_extension": ".py",
   "mimetype": "text/x-python",
   "name": "python",
   "nbconvert_exporter": "python",
   "pygments_lexer": "ipython3",
   "version": "3.6.13"
  },
  "orig_nbformat": 4,
  "vscode": {
   "interpreter": {
    "hash": "f903b2b60a8b91cd2748e4b89510df54c458a48099b7a4d252a18ecd2999490e"
   }
  }
 },
 "nbformat": 4,
 "nbformat_minor": 2
}
