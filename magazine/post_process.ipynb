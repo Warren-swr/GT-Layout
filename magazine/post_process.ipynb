{
 "cells": [
  {
   "cell_type": "code",
   "execution_count": 131,
   "metadata": {},
   "outputs": [
    {
     "name": "stdout",
     "output_type": "stream",
     "text": [
      "Using device: cuda:1\n",
      "Loading ckpt pretrained_encoder.pth\n",
      "DONE\n",
      "\n",
      "Loading ckpt pretrained_decoder.pth\n",
      "DONE\n",
      "\n"
     ]
    }
   ],
   "source": [
    "import os\n",
    "import sys\n",
    "import shutil\n",
    "import numpy as np\n",
    "import torch\n",
    "import utils\n",
    "import vis_utils_layout as vis_utils\n",
    "from data_layout import LayoutDataset, Tree\n",
    "import model_layout as model\n",
    "import tqdm\n",
    "\n",
    "sys.setrecursionlimit(5000) \n",
    "\n",
    "num_gen = 300\n",
    "num_recon = 200\n",
    "exp = 'magazine_2.5K'\n",
    "category = 'magazine'\n",
    "checkpoint = ''\n",
    "device = 'cuda:0'\n",
    "\n",
    "path = '/home/weiran/Projects/RvNN-Layout/GT-Layout/' + category + '/logs/' + exp\n",
    "data_path = '/home/weiran/Projects/RvNN-Layout/data/' + category + '-ours/' + exp\n",
    "\n",
    "# load train config\n",
    "conf = torch.load(path + '/conf.pth')\n",
    "\n",
    "# load object category information\n",
    "Tree.load_category_info(conf.category)\n",
    "\n",
    "# set up device\n",
    "print(f'Using device: {conf.device}')\n",
    "\n",
    "recon_dir = path +/home/weiran/Projects/RvNN-Layout/GT-Layout/magazine/logs/magazine_2.5K/recon '/recon-test/'\n",
    "gen_dir = path + '/generation/'\n",
    "\n",
    "# if os.path.exists(recon_dir):\n",
    "#     shutil.rmtree(recon_dir)\n",
    "# os.mkdir(recon_dir)\n",
    "\n",
    "# if os.path.exists(gen_dir):\n",
    "#     shutil.rmtree(gen_dir)\n",
    "# os.mkdir(gen_dir)\n",
    "\n",
    "# create models\n",
    "# we disable probabilistic because we do not need to jitter the decoded z during inference\n",
    "encoder = model.RecursiveEncoder(conf, variational=True, probabilistic=False)\n",
    "decoder = model.RecursiveDecoder(conf)\n",
    "\n",
    "# load the pretrained models\n",
    "print('Loading ckpt pretrained_encoder.pth')\n",
    "data_to_restore = torch.load(path + '/ckpts/' + checkpoint + 'net_encoder.pth')\n",
    "encoder.load_state_dict(data_to_restore, strict=True)\n",
    "print('DONE\\n')\n",
    "print('Loading ckpt pretrained_decoder.pth')\n",
    "data_to_restore = torch.load(path + '/ckpts/' + checkpoint + 'net_decoder.pth')\n",
    "decoder.load_state_dict(data_to_restore, strict=True)\n",
    "print('DONE\\n')\n",
    "\n",
    "# send to device\n",
    "encoder.to(device)\n",
    "decoder.to(device)\n",
    "\n",
    "# set models to evaluation mode\n",
    "encoder.eval()\n",
    "decoder.eval()\n",
    "\n",
    "# read test.txt\n",
    "with open(data_path + '/test.txt', 'r') as fin:\n",
    "    data_list = [l.rstrip() for l in fin.readlines()]"
   ]
  },
  {
   "cell_type": "code",
   "execution_count": 132,
   "metadata": {},
   "outputs": [],
   "source": [
    "code = torch.randn(1, conf.feature_size).to(device)"
   ]
  },
  {
   "cell_type": "code",
   "execution_count": 133,
   "metadata": {},
   "outputs": [
    {
     "name": "stdout",
     "output_type": "stream",
     "text": [
      "0 horizontal_branch    {0} 2 Box([0.008632703684270382, 0.014488830231130123, 0.5784306526184082, 0.7611498236656189])\n",
      "  ├0 text [LEAF] {0} 5 Box([0.013418640941381454, 0.03381922468543053, 0.20549817383289337, 0.7256911993026733])\n",
      "  ├1 vertical_branch    {0} 1 Box([0.2528839111328125, 0.01853865385055542, 0.18605253100395203, 0.6893906593322754])\n",
      "  |  ├0 title [LEAF] {0} 7 Box([0.25338101387023926, 0.02570977993309498, 0.18224570155143738, 0.14163286983966827])\n",
      "  |  ├1 image [LEAF] {0} 4 Box([0.2530295252799988, 0.21047204732894897, 0.1855429708957672, 0.2542262375354767])\n",
      "  |  ├2 image [LEAF] {0} 4 Box([0.25302958488464355, 0.5143333077430725, 0.1850593388080597, 0.2244446575641632])\n",
      "  ├2 text [LEAF] {0} 5 Box([0.46502506732940674, 0.01807611621916294, 0.18058271706104279, 0.7528356909751892])\n",
      "\n"
     ]
    },
    {
     "data": {
      "image/png": "[encoded data removed]",
      "text/plain": [
       "<Figure size 500x500 with 1 Axes>"
      ]
     },
     "metadata": {},
     "output_type": "display_data"
    }
   ],
   "source": [
    "# infer through the model to get the generated hierarchy\n",
    "# set maximal tree depth to conf.max_tree_depth\n",
    "obj_arr = decoder.decode_structure(z=code, max_depth=conf.max_tree_depth)\n",
    "\n",
    "obj_arr.get_arrbox()\n",
    "\n",
    "print(str(obj_arr))\n",
    "\n",
    "# output the assembled box-shape\n",
    "vis_utils.draw_partnet_objects([obj_arr],\\\n",
    "        object_names=['GENERATION'], \\\n",
    "        figsize=(5, 5), leafs_only=True, sem_colors_filename='./part_colors_magazine.txt')"
   ]
  },
  {
   "cell_type": "code",
   "execution_count": 157,
   "metadata": {},
   "outputs": [],
   "source": [
    "def arr_v(node, isRoot=False):\n",
    "    total = 0.0\n",
    "    if node.children is not None:\n",
    "        for child in node.children:\n",
    "            total += child.box[0,1] + child.box[0,3]\n",
    "        for child in node.children:\n",
    "            if isRoot == False:\n",
    "                child.box[0,1] /= total\n",
    "                child.box[0,3] /= total\n",
    "        for index, child in enumerate(node.children):\n",
    "            if index != 0 and child.box[0,1] < 0.02:\n",
    "                child.box[0,3] -= 0.02 - child.box[0,0]\n",
    "                child.box[0,1] = 0.02\n",
    "\n",
    "\n",
    "def arr_h(node, isRoot=False):\n",
    "    total = 0.0\n",
    "    if node.children is not None:\n",
    "        for child in node.children:\n",
    "            total += child.box[0,0] + child.box[0,2]\n",
    "        for child in node.children:\n",
    "            if isRoot == False:\n",
    "                child.box[0,0] /= total\n",
    "                child.box[0,2] /= total\n",
    "        for index, child in enumerate(node.children):\n",
    "            if index != 0 and child.box[0,0] < 0.02:\n",
    "                child.box[0,2] -= 0.02 - child.box[0,0]\n",
    "                child.box[0,0] = 0.02\n",
    "            \n",
    "\n",
    "def arr_s(node, isRoot=False):\n",
    "    if node.children is not None:\n",
    "        for child in node.children:\n",
    "            total_h = 0.0\n",
    "            total_v = 0.0\n",
    "            total_h += child.box[0,0] + child.box[0,2]\n",
    "            total_v += child.box[0,1] + child.box[0,3]\n",
    "            \n",
    "            if total_h > 1:\n",
    "                child.box[0,0] /= total_h\n",
    "                child.box[0,2] /= total_h\n",
    "            \n",
    "            if total_v > 1:\n",
    "                child.box[0,1] /= total_v\n",
    "                child.box[0,3] /= total_v\n",
    "\n",
    "\n",
    "def arr_layout(node, isRoot=False):\n",
    "    if node.children is not None:\n",
    "        if node.label == 'vertical_branch':\n",
    "            arr_v(node, isRoot=isRoot)\n",
    "        elif node.label == 'horizontal_branch':\n",
    "            arr_h(node, isRoot=isRoot)\n",
    "        elif node.label == 'stack_branch':\n",
    "            arr_s(node, isRoot=isRoot)\n",
    "        for index, child in enumerate(node.children):\n",
    "            if child.box[0,2]  > 0.9:\n",
    "                child.box[0,2] = 1.0\n",
    "                child.box[0,0] = 0.0\n",
    "            if child.box[0,3] > 0.9:\n",
    "                child.box[0,3] = 1.0\n",
    "                child.box[0,1] = 0.0\n",
    "                \n",
    "            if child.box[0,2] + child.box[0,0] > 0.95:\n",
    "                child.box[0,2] = 1.0 - child.box[0,0]\n",
    "            if child.box[0,3] + child.box[0,1] > 0.95:\n",
    "                child.box[0,3] = 1.0 - child.box[0,1]\n",
    "            \n",
    "            if child.box[0,2] + child.box[0,0] < 0.05:\n",
    "                child.box[0,0] = 0.0\n",
    "            if child.box[0,3] + child.box[0,1] < 0.05:\n",
    "                child.box[0,1] = 0.0\n",
    "            \n",
    "            arr_layout(child)\n",
    "\n",
    "test_obj = obj_arr\n",
    "arr_layout(test_obj.root, isRoot=True)"
   ]
  },
  {
   "cell_type": "code",
   "execution_count": 135,
   "metadata": {},
   "outputs": [
    {
     "data": {
      "image/png": "[encoded data removed]",
      "text/plain": [
       "<Figure size 500x500 with 1 Axes>"
      ]
     },
     "metadata": {},
     "output_type": "display_data"
    }
   ],
   "source": [
    "test_obj.get_arrbox()\n",
    "\n",
    "# output the assembled box-shape\n",
    "vis_utils.draw_partnet_objects([test_obj],\\\n",
    "        object_names=['GENERATION'], \\\n",
    "        figsize=(5, 5), leafs_only=True, sem_colors_filename='./part_colors_magazine.txt')"
   ]
  },
  {
   "cell_type": "code",
   "execution_count": 160,
   "metadata": {},
   "outputs": [],
   "source": [
    "code = torch.randn(1, conf.feature_size).to(device)"
   ]
  },
  {
   "cell_type": "code",
   "execution_count": 161,
   "metadata": {},
   "outputs": [
    {
     "data": {
      "image/png": "[encoded data removed]",
      "text/plain": [
       "<Figure size 500x500 with 1 Axes>"
      ]
     },
     "metadata": {},
     "output_type": "display_data"
    }
   ],
   "source": [
    "# code = torch.randn(1, conf.feature_size).to(device)\n",
    "\n",
    "# infer through the model to get the generated hierarchy\n",
    "# set maximal tree depth to conf.max_tree_depth\n",
    "obj_arr = decoder.decode_structure(z=code, max_depth=conf.max_tree_depth)\n",
    "\n",
    "obj_arr.get_arrbox()\n",
    "\n",
    "# print(str(obj_arr))\n",
    "\n",
    "# output the assembled box-shape\n",
    "vis_utils.draw_partnet_objects([obj_arr],\\\n",
    "        object_names=['GENERATION'], \\\n",
    "        figsize=(5, 5), leafs_only=False, sem_colors_filename='./part_colors_magazine.txt')"
   ]
  },
  {
   "cell_type": "code",
   "execution_count": 162,
   "metadata": {},
   "outputs": [
    {
     "data": {
      "image/png": "[encoded data removed]",
      "text/plain": [
       "<Figure size 500x500 with 1 Axes>"
      ]
     },
     "metadata": {},
     "output_type": "display_data"
    }
   ],
   "source": [
    "test_obj = obj_arr\n",
    "arr_layout(test_obj.root, isRoot=True)\n",
    "arr_layout(test_obj.root, isRoot=True)\n",
    "test_obj.get_arrbox()\n",
    "\n",
    "# output the assembled box-shape\n",
    "vis_utils.draw_partnet_objects([test_obj],\\\n",
    "        object_names=['GENERATION'], \\\n",
    "        figsize=(5, 5), leafs_only=True, sem_colors_filename='./part_colors_magazine.txt')"
   ]
  }
 ],
 "metadata": {
  "kernelspec": {
   "display_name": "torch-2",
   "language": "python",
   "name": "python3"
  },
  "language_info": {
   "codemirror_mode": {
    "name": "ipython",
    "version": 3
   },
   "file_extension": ".py",
   "mimetype": "text/x-python",
   "name": "python",
   "nbconvert_exporter": "python",
   "pygments_lexer": "ipython3",
   "version": "3.9.16"
  },
  "orig_nbformat": 4
 },
 "nbformat": 4,
 "nbformat_minor": 2
}
