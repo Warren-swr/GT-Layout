{
 "cells": [
  {
   "cell_type": "code",
   "execution_count": 1,
   "metadata": {},
   "outputs": [
    {
     "name": "stdout",
     "output_type": "stream",
     "text": [
      "Using device: cuda:1\n",
      "Loading ckpt pretrained_encoder.pth\n",
      "DONE\n",
      "\n",
      "Loading ckpt pretrained_decoder.pth\n",
      "DONE\n",
      "\n"
     ]
    }
   ],
   "source": [
    "import os\n",
    "import sys\n",
    "import shutil\n",
    "import numpy as np\n",
    "import torch\n",
    "import utils\n",
    "import vis_utils_layout as vis_utils\n",
    "from data_layout import LayoutDataset, Tree\n",
    "import model_layout as model\n",
    "import tqdm\n",
    "\n",
    "sys.setrecursionlimit(5000) \n",
    "\n",
    "num_gen = 300\n",
    "num_recon = 200\n",
    "exp = 'magazine_2.5K'\n",
    "category = 'magazine'\n",
    "checkpoint = ''\n",
    "device = 'cuda:0'\n",
    "\n",
    "path = '/home/weiran/Projects/RvNN-Layout/GT-Layout/' + category + '/logs/' + exp\n",
    "data_path = '/home/weiran/Projects/RvNN-Layout/data/' + category + '-ours/' + exp\n",
    "\n",
    "# load train config\n",
    "conf = torch.load(path + '/conf.pth')\n",
    "\n",
    "# load object category information\n",
    "Tree.load_category_info(conf.category)\n",
    "\n",
    "# set up device\n",
    "print(f'Using device: {conf.device}')\n",
    "\n",
    "recon_dir = path + '/recon-test/'\n",
    "gen_dir = path + '/generation/'\n",
    "\n",
    "# if os.path.exists(recon_dir):\n",
    "#     shutil.rmtree(recon_dir)\n",
    "# os.mkdir(recon_dir)\n",
    "\n",
    "# if os.path.exists(gen_dir):\n",
    "#     shutil.rmtree(gen_dir)\n",
    "# os.mkdir(gen_dir)\n",
    "\n",
    "# create models\n",
    "# we disable probabilistic because we do not need to jitter the decoded z during inference\n",
    "encoder = model.RecursiveEncoder(conf, variational=True, probabilistic=False)\n",
    "decoder = model.RecursiveDecoder(conf)\n",
    "\n",
    "# load the pretrained models\n",
    "print('Loading ckpt pretrained_encoder.pth')\n",
    "data_to_restore = torch.load(path + '/ckpts/' + checkpoint + 'net_encoder.pth')\n",
    "encoder.load_state_dict(data_to_restore, strict=True)\n",
    "print('DONE\\n')\n",
    "print('Loading ckpt pretrained_decoder.pth')\n",
    "data_to_restore = torch.load(path + '/ckpts/' + checkpoint + 'net_decoder.pth')\n",
    "decoder.load_state_dict(data_to_restore, strict=True)\n",
    "print('DONE\\n')\n",
    "\n",
    "# send to device\n",
    "encoder.to(device)\n",
    "decoder.to(device)\n",
    "\n",
    "# set models to evaluation mode\n",
    "encoder.eval()\n",
    "decoder.eval()\n",
    "\n",
    "# read test.txt\n",
    "with open(data_path + '/test.txt', 'r') as fin:\n",
    "    data_list = [l.rstrip() for l in fin.readlines()]"
   ]
  },
  {
   "cell_type": "code",
   "execution_count": 2,
   "metadata": {},
   "outputs": [],
   "source": [
    "code = torch.randn(1, conf.feature_size).to(device)"
   ]
  },
  {
   "cell_type": "code",
   "execution_count": 30,
   "metadata": {},
   "outputs": [
    {
     "name": "stdout",
     "output_type": "stream",
     "text": [
      "0 horizontal_branch    {0} 2 Box([4.6075165300862864e-05, 9.565350046614185e-05, 0.6459186673164368, 0.8698635101318359])\n",
      "  ├0 vertical_branch    {0} 1 Box([0.00343350600451231, 0.0006747957086190581, 0.2534048557281494, 0.8685278296470642])\n",
      "  |  ├0 title [LEAF] {0} 7 Box([0.0036057529505342245, 0.0006848389166407287, 0.25190088152885437, 0.11541915684938431])\n",
      "  |  ├1 text [LEAF] {0} 5 Box([0.0035364660434424877, 0.14071692526340485, 0.25220710039138794, 0.16398361325263977])\n",
      "  |  ├2 text [LEAF] {0} 5 Box([0.003466065274551511, 0.32134127616882324, 0.2526858448982239, 0.2772391736507416])\n",
      "  |  ├3 text [LEAF] {0} 5 Box([0.009427184239029884, 0.6115517020225525, 0.24250727891921997, 0.19208025932312012])\n",
      "  |  ├4 text [LEAF] {0} 5 Box([0.003533910261467099, 0.8317784667015076, 0.25263532996177673, 0.2529941201210022])\n",
      "  ├1 vertical_branch    {0} 1 Box([0.26155340671539307, 0.005315581802278757, 0.37039420008659363, 0.8591792583465576])\n",
      "  |  ├0 stack_branch    {0} 3 Box([0.26273179054260254, 0.0053273714147508144, 0.36759132146835327, 0.49010026454925537])\n",
      "  |  |  ├0 text [LEAF] {0} 5 Box([0.5138579607009888, 0.01951543428003788, 0.13537293672561646, 0.15781639516353607])\n",
      "  |  |  ├1 image [LEAF] {0} 4 Box([0.26273179054260254, 0.0053273714147508144, 0.36759132146835327, 0.49010026454925537])\n",
      "  |  ├1 horizontal_branch    {0} 2 Box([0.26156872510910034, 0.5221645832061768, 0.37023022770881653, 0.3321055769920349])\n",
      "  |  |  ├0 text [LEAF] {0} 5 Box([0.2619785666465759, 0.5221655368804932, 0.20086544752120972, 0.33208557963371277])\n",
      "  |  |  ├1 text [LEAF] {0} 5 Box([0.47463279962539673, 0.522935688495636, 0.18836942315101624, 0.3297625482082367])\n",
      "\n"
     ]
    },
    {
     "data": {
      "image/png": "[encoded data removed]",
      "text/plain": [
       "<Figure size 500x500 with 1 Axes>"
      ]
     },
     "metadata": {},
     "output_type": "display_data"
    }
   ],
   "source": [
    "# infer through the model to get the generated hierarchy\n",
    "# set maximal tree depth to conf.max_tree_depth\n",
    "obj_arr = decoder.decode_structure(z=code, max_depth=conf.max_tree_depth)\n",
    "\n",
    "obj_arr.get_arrbox()\n",
    "\n",
    "print(str(obj_arr))\n",
    "\n",
    "# output the assembled box-shape\n",
    "vis_utils.draw_partnet_objects([obj_arr],\\\n",
    "        object_names=['GENERATION'], \\\n",
    "        figsize=(5, 5), leafs_only=True, sem_colors_filename='./part_colors_magazine.txt')"
   ]
  },
  {
   "cell_type": "code",
   "execution_count": 78,
   "metadata": {},
   "outputs": [],
   "source": [
    "def arr_v(node):\n",
    "    total = 0.0\n",
    "    if node.children is not None:\n",
    "        for child in node.children:\n",
    "            total += child.box[0,1] + child.box[0,3]\n",
    "        for child in node.children:\n",
    "            child.box[0,1] /= total\n",
    "            child.box[0,3] /= total\n",
    "        for index, child in enumerate(node.children):\n",
    "            if index != 0 and child.box[0,1] < 0.02:\n",
    "                child.box[0,3] -= 0.02 - child.box[0,0]\n",
    "                child.box[0,1] = 0.02\n",
    "\n",
    "def arr_h(node):\n",
    "    total = 0.0\n",
    "    if node.children is not None:\n",
    "        for child in node.children:\n",
    "            total += child.box[0,0] + child.box[0,2]\n",
    "        for child in node.children:\n",
    "            child.box[0,0] /= total\n",
    "            child.box[0,2] /= total\n",
    "        for index, child in enumerate(node.children):\n",
    "            if index != 0 and child.box[0,0] < 0.02:\n",
    "                child.box[0,2] -= 0.02 - child.box[0,0]\n",
    "                child.box[0,0] = 0.02\n",
    "            \n",
    "\n",
    "def arr_s(node):\n",
    "    if node.children is not None:\n",
    "        for child in node.children:\n",
    "            total_h = 0.0\n",
    "            total_v = 0.0\n",
    "            total_h += child.box[0,0] + child.box[0,2]\n",
    "            total_v += child.box[0,1] + child.box[0,3]\n",
    "            if total_h > 1:\n",
    "                child.box[0,0] /= total_h\n",
    "                child.box[0,2] /= total_h\n",
    "            if total_v > 1:\n",
    "                child.box[0,1] /= total_v\n",
    "                child.box[0,3] /= total_v\n",
    "\n",
    "def arr_layout(node):\n",
    "    if node.children is not None:\n",
    "        if node.label == 'vertical_branch':\n",
    "            arr_v(node)\n",
    "        elif node.label == 'horizontal_branch':\n",
    "            arr_h(node)\n",
    "        elif node.label == 'stack_branch':\n",
    "            arr_s(node)\n",
    "        for index, child in enumerate(node.children):\n",
    "            # if child.box[0,2] + child.box[0,0] > 0.9:\n",
    "            #     child.box[0,2] = 1.0\n",
    "            #     child.box[0,0] = 0.0\n",
    "            # if child.box[0,3] + child.box[0,1] > 0.9:\n",
    "            #     child.box[0,3] = 1.0\n",
    "            #     child.box[0,1] = 0.0\n",
    "                \n",
    "            if child.box[0,2]  > 0.95:\n",
    "                child.box[0,2] = 1.0\n",
    "                child.box[0,0] = 0.0\n",
    "            if child.box[0,3] > 0.95:\n",
    "                child.box[0,3] = 1.0\n",
    "                child.box[0,1] = 0.0\n",
    "            arr_layout(child)\n",
    "\n",
    "# test_obj = obj_arr\n",
    "# arr_layout(test_obj.root)"
   ]
  },
  {
   "cell_type": "code",
   "execution_count": 32,
   "metadata": {},
   "outputs": [
    {
     "data": {
      "image/png": "[encoded data removed]",
      "text/plain": [
       "<Figure size 500x500 with 1 Axes>"
      ]
     },
     "metadata": {},
     "output_type": "display_data"
    }
   ],
   "source": [
    "test_obj.get_arrbox()\n",
    "\n",
    "# output the assembled box-shape\n",
    "vis_utils.draw_partnet_objects([test_obj],\\\n",
    "        object_names=['GENERATION'], \\\n",
    "        figsize=(5, 5), leafs_only=True, sem_colors_filename='./part_colors_magazine.txt')"
   ]
  },
  {
   "cell_type": "code",
   "execution_count": 107,
   "metadata": {},
   "outputs": [],
   "source": [
    "code = torch.randn(1, conf.feature_size).to(device)"
   ]
  },
  {
   "cell_type": "code",
   "execution_count": 108,
   "metadata": {},
   "outputs": [
    {
     "data": {
      "image/png": "[encoded data removed]",
      "text/plain": [
       "<Figure size 500x500 with 1 Axes>"
      ]
     },
     "metadata": {},
     "output_type": "display_data"
    }
   ],
   "source": [
    "# code = torch.randn(1, conf.feature_size).to(device)\n",
    "\n",
    "# infer through the model to get the generated hierarchy\n",
    "# set maximal tree depth to conf.max_tree_depth\n",
    "obj_arr = decoder.decode_structure(z=code, max_depth=conf.max_tree_depth)\n",
    "\n",
    "obj_arr.get_arrbox()\n",
    "\n",
    "# print(str(obj_arr))\n",
    "\n",
    "# output the assembled box-shape\n",
    "vis_utils.draw_partnet_objects([obj_arr],\\\n",
    "        object_names=['GENERATION'], \\\n",
    "        figsize=(5, 5), leafs_only=True, sem_colors_filename='./part_colors_magazine.txt')"
   ]
  },
  {
   "cell_type": "code",
   "execution_count": 109,
   "metadata": {},
   "outputs": [
    {
     "data": {
      "image/png": "[encoded data removed]",
      "text/plain": [
       "<Figure size 500x500 with 1 Axes>"
      ]
     },
     "metadata": {},
     "output_type": "display_data"
    }
   ],
   "source": [
    "test_obj = obj_arr\n",
    "arr_layout(test_obj.root)\n",
    "arr_layout(test_obj.root)\n",
    "test_obj.get_arrbox()\n",
    "\n",
    "# output the assembled box-shape\n",
    "vis_utils.draw_partnet_objects([test_obj],\\\n",
    "        object_names=['GENERATION'], \\\n",
    "        figsize=(5, 5), leafs_only=True, sem_colors_filename='./part_colors_magazine.txt')"
   ]
  }
 ],
 "metadata": {
  "kernelspec": {
   "display_name": "torch-2",
   "language": "python",
   "name": "python3"
  },
  "language_info": {
   "codemirror_mode": {
    "name": "ipython",
    "version": 3
   },
   "file_extension": ".py",
   "mimetype": "text/x-python",
   "name": "python",
   "nbconvert_exporter": "python",
   "pygments_lexer": "ipython3",
   "version": "3.9.16"
  },
  "orig_nbformat": 4
 },
 "nbformat": 4,
 "nbformat_minor": 2
}
