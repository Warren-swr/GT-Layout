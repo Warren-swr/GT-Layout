{
 "cells": [
  {
   "cell_type": "code",
   "execution_count": 2,
   "metadata": {},
   "outputs": [
    {
     "name": "stdout",
     "output_type": "stream",
     "text": [
      "Using device: cuda:1\n"
     ]
    }
   ],
   "source": [
    "import os\n",
    "import sys\n",
    "import shutil\n",
    "import numpy as np\n",
    "import torch\n",
    "import utils\n",
    "import vis_utils_layout as vis_utils\n",
    "from data_layout import LayoutDataset, Tree\n",
    "import model_layout as model\n",
    "import tqdm\n",
    "\n",
    "sys.setrecursionlimit(5000) \n",
    "\n",
    "num_gen = 300\n",
    "num_recon = 200\n",
    "exp = 'magazine_2.5K'\n",
    "category = 'magazine'\n",
    "checkpoint = ''\n",
    "device = 'cuda:0'\n",
    "\n",
    "path = '/home/weiran/Projects/RvNN-Layout/data/magazine-ours/' + category + '-vis/'\n",
    "data_path = '/home/weiran/Projects/RvNN-Layout/data/' + category + '-ours/' + exp\n",
    "\n",
    "# load train config\n",
    "conf = torch.load('/home/weiran/Projects/RvNN-Layout/GT-Layout/magazine/logs/magazine_2.5K/conf.pth')\n",
    "\n",
    "# load object category information\n",
    "Tree.load_category_info(conf.category)\n",
    "\n",
    "# set up device\n",
    "print(f'Using device: {conf.device}')\n",
    "\n",
    "recon_dir = path\n",
    "\n",
    "# read train.txt\n",
    "with open(data_path + '/train.txt', 'r') as fin:\n",
    "    data_list = [l.rstrip() for l in fin.readlines()]"
   ]
  },
  {
   "cell_type": "code",
   "execution_count": 3,
   "metadata": {},
   "outputs": [
    {
     "name": "stderr",
     "output_type": "stream",
     "text": [
      "100%|██████████| 2250/2250 [06:44<00:00,  5.56it/s]\n"
     ]
    }
   ],
   "source": [
    "if os.path.exists(recon_dir):\n",
    "    shutil.rmtree(recon_dir)\n",
    "os.mkdir(recon_dir)\n",
    "\n",
    "# reconstruct shapes\n",
    "with torch.no_grad():\n",
    "    for i in tqdm.tqdm(range(len(data_list))):\n",
    "        # load the gt data as the input\n",
    "        obj = LayoutDataset.load_object(data_path + '/' + data_list[i] + '.json')\n",
    "        # obj.to(device)\n",
    "\n",
    "        obj.get_arrbox()\n",
    "\n",
    "        # output the hierarchy\n",
    "        with open(os.path.join(recon_dir, data_list[i] + '_GT.txt'), 'w') as fout:\n",
    "            fout.write(str(obj)+'\\n\\n')\n",
    "\n",
    "        # output the assembled box-shape\n",
    "        vis_utils.draw_partnet_objects([obj], \\\n",
    "            object_names=['GT'], leafs_only=True, \\\n",
    "            sem_colors_filename='./part_colors_magazine.txt', figsize=(5, 5), \\\n",
    "            out_fn=os.path.join(recon_dir, data_list[i] + '_GT.png'))\n",
    "        \n",
    "        vis_utils.draw_partnet_objects([obj], \\\n",
    "            object_names=['GT'], leafs_only=True, \\\n",
    "            sem_colors_filename='./part_colors_magazine.txt', figsize=(5, 5), \\\n",
    "            out_fn=os.path.join(recon_dir, data_list[i] + '_GT.svg'))"
   ]
  }
 ],
 "metadata": {
  "kernelspec": {
   "display_name": "torch-2",
   "language": "python",
   "name": "python3"
  },
  "language_info": {
   "codemirror_mode": {
    "name": "ipython",
    "version": 3
   },
   "file_extension": ".py",
   "mimetype": "text/x-python",
   "name": "python",
   "nbconvert_exporter": "python",
   "pygments_lexer": "ipython3",
   "version": "3.9.16"
  },
  "orig_nbformat": 4
 },
 "nbformat": 4,
 "nbformat_minor": 2
}
