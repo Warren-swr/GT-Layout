{
 "cells": [
  {
   "cell_type": "code",
   "execution_count": null,
   "metadata": {},
   "outputs": [],
   "source": [
    "import os\n",
    "import sys\n",
    "import shutil\n",
    "import numpy as np\n",
    "import torch\n",
    "import utils\n",
    "import vis_utils_layout as vis_utils\n",
    "from data_layout import LayoutDataset, Tree\n",
    "import model_layout as model\n",
    "\n",
    "sys.setrecursionlimit(5000) \n",
    "\n",
    "num_gen = 300\n",
    "num_recon = 300\n",
    "exp = 'magazine_2K'\n",
    "category = 'magazine'\n",
    "checkpoint = ''\n",
    "\n",
    "path = '/home/weiran/Projects/RvNN-Layout/GT-Layout/' + category + '/logs/' + exp\n",
    "data_path = '/home/weiran/Projects/RvNN-Layout/data/' + category + '-ours/' + exp\n",
    "\n"
   ]
  }
 ],
 "metadata": {
  "kernelspec": {
   "display_name": "torch-2",
   "language": "python",
   "name": "python3"
  },
  "language_info": {
   "codemirror_mode": {
    "name": "ipython",
    "version": 3
   },
   "file_extension": ".py",
   "mimetype": "text/x-python",
   "name": "python",
   "nbconvert_exporter": "python",
   "pygments_lexer": "ipython3",
   "version": "3.9.16"
  },
  "orig_nbformat": 4
 },
 "nbformat": 4,
 "nbformat_minor": 2
}
